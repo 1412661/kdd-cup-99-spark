{
 "metadata": {
  "name": "",
  "signature": "sha256:cf90fa6f259603f1ddcf5c9514ddc33ae5d83558d7e3fb30336d9033d9a8f66b"
 },
 "nbformat": 3,
 "nbformat_minor": 0,
 "worksheets": [
  {
   "cells": [
    {
     "cell_type": "heading",
     "level": 1,
     "metadata": {},
     "source": [
      "KDD Cup 99 - PySpark"
     ]
    },
    {
     "cell_type": "markdown",
     "metadata": {},
     "source": [
      "This is my try with the *KDD Cup of 1999* using Python, Scikit-learn, and Spark.  \n",
      "The dataset for this data mining competition can be found [here](http://kdd.ics.uci.edu/databases/kddcup99/kddcup99.html)."
     ]
    },
    {
     "cell_type": "heading",
     "level": 2,
     "metadata": {},
     "source": [
      "Taks description summary"
     ]
    },
    {
     "cell_type": "markdown",
     "metadata": {},
     "source": [
      "You can find the complete description of the task [here](http://kdd.ics.uci.edu/databases/kddcup99/task.html).  \n",
      "\n",
      "Software to detect network intrusions protects a computer network from unauthorized users, including perhaps insiders.  The intrusion detector learning task is to build a predictive model (i.e. a classifier) capable of distinguishing between *bad connections*, called intrusions or attacks, and *good normal connections*.  \n",
      "\n",
      "A connection is a sequence of TCP packets starting and ending at some well defined times, between which data flows to and from a source IP address to a target IP address under some well defined protocol.  Each connection is labeled as either normal, or as an attack, with exactly one specific attack type.  Each connection record consists of about 100 bytes.  \n",
      "\n",
      "Attacks fall into four main categories:  \n",
      "\n",
      "- DOS: denial-of-service, e.g. syn flood;  \n",
      "- R2L: unauthorized access from a remote machine, e.g. guessing password;  \n",
      "- U2R:  unauthorized access to local superuser (root) privileges, e.g., various ``buffer overflow'' attacks;  \n",
      "- probing: surveillance and other probing, e.g., port scanning.  \n",
      "\n",
      "It is important to note that the test data is not from the same probability distribution as the training data, and it includes specific attack types not in the training data. This makes the task more realistic.  Some intrusion experts believe that most novel attacks are variants of known attacks and the \"signature\" of known attacks can be sufficient to catch novel variants.  \n",
      "\n",
      "The datasets contain a total of 24 training attack types, with an additional 14 types in the test data only.  "
     ]
    },
    {
     "cell_type": "heading",
     "level": 2,
     "metadata": {},
     "source": [
      "Approach"
     ]
    },
    {
     "cell_type": "markdown",
     "metadata": {},
     "source": [
      "We will start by working on a reduced dataset (the 10 percent dataset provided).  \n",
      "\n",
      "There we will do some exploratory data analysis and build a classifier.  \n",
      "\n",
      "However, our final approach will use clustering and anomality detection. We want our model to be able to work well with unknown attack types.  \n",
      "\n"
     ]
    },
    {
     "cell_type": "code",
     "collapsed": false,
     "input": [],
     "language": "python",
     "metadata": {},
     "outputs": []
    }
   ],
   "metadata": {}
  }
 ]
}